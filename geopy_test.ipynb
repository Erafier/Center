{
 "cells": [
  {
   "cell_type": "code",
   "execution_count": 1,
   "metadata": {
    "collapsed": true,
    "pycharm": {
     "is_executing": false
    }
   },
   "outputs": [],
   "source": [
    "import json\n",
    "\n",
    "from geopy.geocoders import *\n",
    "\n",
    "geolocator = Nominatim(user_agent=\"specify_your_app_name_here\", timeout=1)"
   ]
  },
  {
   "cell_type": "code",
   "execution_count": 26,
   "outputs": [
    {
     "name": "stdout",
     "text": [
      "1 1 Комсомольская улица Екатеринбургский муниципальный банк\n",
      "2 1 Комсомольская улица 2\n",
      "3 1 улица Блюхера Минирынок\n",
      "4 1 Комсомольская улица 2А\n",
      "1 2 улица Сулимова 55\n",
      "2 2 улица Сулимова 50\n",
      "3 2 улица Учителей 8/1\n",
      "4 2 улица Учителей 9\n",
      "1 3 Октябрьский район Чапаевский\n",
      "2 3 Сибирский тракт Тубсанаторий\n",
      "1 4 проспект Ленина 56\n",
      "2 4 улица Мичурина 76\n",
      "1 5 улица Малышева 101\n",
      "1 6 Автовокзал Два Капитана\n",
      "2 6 улица Академика Шварца 4\n",
      "1 7 улица Викулова 33/4\n",
      "2 7 улица Фролова 27\n",
      "1 8 бульвар Петра Кожемяко 5\n",
      "1 9 Колокольная улица Европейский квартал\n",
      "1 10 улица Фролова 27\n"
     ],
     "output_type": "stream"
    }
   ],
   "source": [
    "with open('camera_data.json', 'r') as f:\n",
    "    camera_data = json.load(f)\n",
    "    camera_data = [camera for camera in camera_data if camera['cluster_id'] != '0']\n",
    "\n",
    "    for i in range(len(camera_data)):\n",
    "        location = geolocator.reverse(camera_data[i]['coordinates'])\n",
    "        adress = location.address.split(', ')\n",
    "        camera_data[i]['address'] = str(adress[1] + \", \" + adress[0])\n",
    "        print(camera_data[i]['camera_id'], camera_data[i]['cluster_id'], adress[1], adress[0])"
   ],
   "metadata": {
    "collapsed": false,
    "pycharm": {
     "name": "#%%\n",
     "is_executing": false
    }
   }
  },
  {
   "cell_type": "code",
   "execution_count": 28,
   "outputs": [
    {
     "name": "stdout",
     "text": [
      "[{'cluster_id': '1', 'camera_id': '1', 'coordinates': [56.85702449459888, 60.65402140291714], 'address': 'Комсомольская улица, Екатеринбургский муниципальный банк'}, {'cluster_id': '1', 'camera_id': '2', 'coordinates': [56.856225133114606, 60.65337767275356], 'address': 'Комсомольская улица, 2'}, {'cluster_id': '1', 'camera_id': '3', 'coordinates': [56.8572125771619, 60.65251936586883], 'address': 'улица Блюхера, Минирынок'}, {'cluster_id': '1', 'camera_id': '4', 'coordinates': [56.85582544594197, 60.65247645052457], 'address': 'Комсомольская улица, 2А'}, {'cluster_id': '2', 'camera_id': '1', 'coordinates': [56.862036123632855, 60.632809955386804], 'address': 'улица Сулимова, 55'}, {'cluster_id': '2', 'camera_id': '2', 'coordinates': [56.862858867162416, 60.63186581781355], 'address': 'улица Сулимова, 50'}, {'cluster_id': '2', 'camera_id': '3', 'coordinates': [56.86332899816433, 60.63379700830427], 'address': 'улица Учителей, 8/1'}, {'cluster_id': '2', 'camera_id': '4', 'coordinates': [56.86133090043141, 60.63212330987902], 'address': 'улица Учителей, 9'}, {'cluster_id': '3', 'camera_id': '1', 'coordinates': [56.81344666474758, 60.71600358511132], 'address': 'Октябрьский район, Чапаевский'}, {'cluster_id': '3', 'camera_id': '2', 'coordinates': [56.80961979521124, 60.71604156358023], 'address': 'Сибирский тракт, Тубсанаторий'}, {'cluster_id': '4', 'camera_id': '1', 'coordinates': [56.840973342719515, 60.62948898504451], 'address': 'проспект Ленина, 56'}, {'cluster_id': '4', 'camera_id': '2', 'coordinates': [56.839103415585264, 60.62927440832335], 'address': 'улица Мичурина, 76'}, {'cluster_id': '5', 'camera_id': '1', 'coordinates': [56.838915733344194, 60.6368799916086], 'address': 'улица Малышева, 101'}, {'cluster_id': '6', 'camera_id': '1', 'coordinates': [56.797453828501, 60.61421446689954], 'address': 'Автовокзал, Два Капитана'}, {'cluster_id': '6', 'camera_id': '2', 'coordinates': [56.79651189849458, 60.61560921558727], 'address': 'улица Академика Шварца, 4'}, {'cluster_id': '7', 'camera_id': '1', 'coordinates': [56.833981055082866, 60.54820011755702], 'address': 'улица Викулова, 33/4'}, {'cluster_id': '7', 'camera_id': '2', 'coordinates': [56.83803509957453, 60.54654050199275], 'address': 'улица Фролова, 27'}, {'cluster_id': '8', 'camera_id': '1', 'coordinates': [56.80105355266293, 60.49071636740718], 'address': 'бульвар Петра Кожемяко, 5'}, {'cluster_id': '9', 'camera_id': '1', 'coordinates': [56.78440158443554, 60.533800873306895], 'address': 'Колокольная улица, Европейский квартал'}, {'cluster_id': '10', 'camera_id': '1', 'coordinates': [56.83803509957453, 60.54654050199275], 'address': 'улица Фролова, 27'}]\n"
     ],
     "output_type": "stream"
    }
   ],
   "source": [
    "print(camera_data)\n",
    "with open('camera_data.json', 'w') as f:\n",
    "    json.dump(camera_data, fp=f, ensure_ascii=False)"
   ],
   "metadata": {
    "collapsed": false,
    "pycharm": {
     "name": "#%%\n",
     "is_executing": false
    }
   }
  },
  {
   "cell_type": "code",
   "execution_count": 3,
   "outputs": [
    {
     "name": "stdout",
     "text": [
      "Комсомольская улица, Екатеринбургский муниципальный банк\n",
      "Комсомольская улица, 2\n",
      "улица Блюхера, Минирынок\n",
      "Комсомольская улица, 2А\n",
      "улица Сулимова, 55\n",
      "улица Сулимова, 50\n",
      "улица Учителей, 8/1\n",
      "улица Учителей, 9\n",
      "Октябрьский район, Чапаевский\n",
      "Сибирский тракт, Тубсанаторий\n",
      "проспект Ленина, 56\n",
      "улица Мичурина, 76\n",
      "улица Малышева, 101\n",
      "Автовокзал, Два Капитана\n",
      "улица Академика Шварца, 4\n",
      "улица Викулова, 33/4\n",
      "улица Фролова, 27\n",
      "бульвар Петра Кожемяко, 5\n",
      "Колокольная улица, Европейский квартал\n",
      "улица Фролова, 27\n"
     ],
     "output_type": "stream"
    }
   ],
   "source": [
    "with open('camera_data.json', 'r') as f:\n",
    "    camera_data = json.load(f)\n",
    "    camera_data = [camera for camera in camera_data if camera['cluster_id'] != '0']\n",
    "\n",
    "for adress in camera_data:\n",
    "    print(adress['address'])\n",
    "    \n"
   ],
   "metadata": {
    "collapsed": false,
    "pycharm": {
     "name": "#%%\n",
     "is_executing": false
    }
   }
  }
 ],
 "metadata": {
  "kernelspec": {
   "display_name": "Python 3",
   "language": "python",
   "name": "python3"
  },
  "language_info": {
   "codemirror_mode": {
    "name": "ipython",
    "version": 2
   },
   "file_extension": ".py",
   "mimetype": "text/x-python",
   "name": "python",
   "nbconvert_exporter": "python",
   "pygments_lexer": "ipython2",
   "version": "2.7.6"
  },
  "pycharm": {
   "stem_cell": {
    "cell_type": "raw",
    "source": [],
    "metadata": {
     "collapsed": false
    }
   }
  }
 },
 "nbformat": 4,
 "nbformat_minor": 0
}